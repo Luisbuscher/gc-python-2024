{
 "cells": [
  {
   "cell_type": "code",
   "execution_count": 2,
   "id": "7521e6d2-4a65-495a-b2c1-aea784719b39",
   "metadata": {},
   "outputs": [
    {
     "name": "stdin",
     "output_type": "stream",
     "text": [
      "Insira o primeiro numero:  10\n",
      "Insira o segundo numero:  10\n"
     ]
    },
    {
     "name": "stdout",
     "output_type": "stream",
     "text": [
      "A soma do numero 10.0 + 10.0 é igual a 20.0\n"
     ]
    }
   ],
   "source": [
    "n1 = float(input('Insira o primeiro numero: '))\n",
    "n2 = float(input('Insira o segundo numero: '))\n",
    "print(f'A soma do numero {n1} + {n2} é igual a {n1+n2}')"
   ]
  },
  {
   "cell_type": "code",
   "execution_count": null,
   "id": "cf74cfdf-3a32-4c5b-aa4e-01f0d7421cba",
   "metadata": {},
   "outputs": [],
   "source": []
  }
 ],
 "metadata": {
  "kernelspec": {
   "display_name": "Python 3 (ipykernel)",
   "language": "python",
   "name": "python3"
  },
  "language_info": {
   "codemirror_mode": {
    "name": "ipython",
    "version": 3
   },
   "file_extension": ".py",
   "mimetype": "text/x-python",
   "name": "python",
   "nbconvert_exporter": "python",
   "pygments_lexer": "ipython3",
   "version": "3.12.4"
  }
 },
 "nbformat": 4,
 "nbformat_minor": 5
}
