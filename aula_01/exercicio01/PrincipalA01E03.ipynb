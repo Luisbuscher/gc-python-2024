{
 "cells": [
  {
   "cell_type": "code",
   "execution_count": 2,
   "id": "bc7b667d-59a0-4043-95a2-413fc59dbd93",
   "metadata": {},
   "outputs": [
    {
     "name": "stdin",
     "output_type": "stream",
     "text": [
      "Digite o número 1:  5\n",
      "Digite o número 2:  5\n",
      "Digite o número 3:  5\n"
     ]
    },
    {
     "name": "stdout",
     "output_type": "stream",
     "text": [
      "Maior número: 5.0\n",
      "Menor número: 5.0\n",
      "Média aritmética: 5.00\n"
     ]
    }
   ],
   "source": [
    "def calcular_numeros():\n",
    "    numeros = []\n",
    "    for i in range(3):\n",
    "        numero = float(input(f\"Digite o número {i+1}: \"))\n",
    "        numeros.append(numero)\n",
    "    \n",
    "    maior = max(numeros)\n",
    "    menor = min(numeros)\n",
    "    media = sum(numeros) / len(numeros)\n",
    "    \n",
    "    print(f\"Maior número: {maior}\")\n",
    "    print(f\"Menor número: {menor}\")\n",
    "    print(f\"Média aritmética: {media:.2f}\")\n",
    "\n",
    "calcular_numeros()\n"
   ]
  },
  {
   "cell_type": "code",
   "execution_count": null,
   "id": "af000f66-d16c-493d-81df-6565053ae9c7",
   "metadata": {},
   "outputs": [],
   "source": []
  }
 ],
 "metadata": {
  "kernelspec": {
   "display_name": "Python 3 (ipykernel)",
   "language": "python",
   "name": "python3"
  },
  "language_info": {
   "codemirror_mode": {
    "name": "ipython",
    "version": 3
   },
   "file_extension": ".py",
   "mimetype": "text/x-python",
   "name": "python",
   "nbconvert_exporter": "python",
   "pygments_lexer": "ipython3",
   "version": "3.12.4"
  }
 },
 "nbformat": 4,
 "nbformat_minor": 5
}
