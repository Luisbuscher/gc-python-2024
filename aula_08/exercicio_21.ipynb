{
 "cells": [
  {
   "cell_type": "markdown",
   "id": "c2971664-560b-4953-b0be-b03433401644",
   "metadata": {},
   "source": [
    "# Análise dos dados da COVID-19\n",
    "### Dataset\n",
    "Com base no dataset de dados da COVID-19:\n",
    "JHU CSSE COVID-19 https://github.com/owid/covid-19- data/tree/master/public/data\n",
    "dataset wcota https://github.com/wcota/covid19br\n",
    ", você deverá realizar uma análise exploratória e responder as seguintes perguntas utilizando Python."
   ]
  },
  {
   "cell_type": "code",
   "execution_count": null,
   "id": "768870fd-2bce-4364-bdc0-2379c31112bb",
   "metadata": {},
   "outputs": [],
   "source": []
  }
 ],
 "metadata": {
  "kernelspec": {
   "display_name": "Python 3 (ipykernel)",
   "language": "python",
   "name": "python3"
  },
  "language_info": {
   "codemirror_mode": {
    "name": "ipython",
    "version": 3
   },
   "file_extension": ".py",
   "mimetype": "text/x-python",
   "name": "python",
   "nbconvert_exporter": "python",
   "pygments_lexer": "ipython3",
   "version": "3.12.4"
  }
 },
 "nbformat": 4,
 "nbformat_minor": 5
}
