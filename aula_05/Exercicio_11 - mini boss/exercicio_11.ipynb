{
 "cells": [
  {
   "cell_type": "code",
   "execution_count": null,
   "id": "9f994605-382e-4c04-9941-44f3d00aa5ee",
   "metadata": {},
   "outputs": [],
   "source": [
    "import pandas as pd\n",
    "# Crie e exiba um dataframe musicas com informações sobre suas músicas favoritas ( 5 músicas ):\n",
    "\n",
    "# id_musica – identificador da música.\n",
    "# nome_musica – nome da música.\n",
    "# artista – nome do artista ou banda\n",
    "# genero – gênero musical (Pop, Rock, Jazz, etc.)\n",
    "# duracao – duração da música em minutos."
   ]
  },
  {
   "cell_type": "code",
   "execution_count": null,
   "id": "cd380d32",
   "metadata": {},
   "outputs": [],
   "source": [
    "# Crie e exiba um dataframe reproducoes dessas musicas:\n",
    "\n",
    "# id_reproducao – identificador único da reprodução.\n",
    "# id_musica – identificador da música reproduzida.\n",
    "# data_reproducao – data da reprodução.\n",
    "# duracao_reproducao – duração da reprodução (caso o usuário não ouça a música completa)."
   ]
  },
  {
   "cell_type": "code",
   "execution_count": null,
   "id": "151fe88b",
   "metadata": {},
   "outputs": [],
   "source": [
    "# Simule 5 reproduções de diferentes músicas, associando o id_musica com a data e a duração reproduzida."
   ]
  },
  {
   "cell_type": "code",
   "execution_count": null,
   "id": "fb11dd19",
   "metadata": {},
   "outputs": [],
   "source": [
    "# Realize um merge entre os dataframes musicas e reproducoes, combinando-os pela coluna id_musica."
   ]
  },
  {
   "cell_type": "code",
   "execution_count": null,
   "id": "c1576d2f",
   "metadata": {},
   "outputs": [],
   "source": [
    "# Exiba o nome da música, o artista e a duração."
   ]
  },
  {
   "cell_type": "code",
   "execution_count": null,
   "id": "65ea22e3",
   "metadata": {},
   "outputs": [],
   "source": [
    "# Atualize o dataframe de reproducoes, removendo um registro para simular que nem todas as músicas foram reproduzidas."
   ]
  },
  {
   "cell_type": "code",
   "execution_count": null,
   "id": "8e238410",
   "metadata": {},
   "outputs": [],
   "source": [
    "# Realize o merge novamente e identifique os valores faltantes."
   ]
  },
  {
   "cell_type": "code",
   "execution_count": null,
   "id": "6f6ab841",
   "metadata": {},
   "outputs": [],
   "source": [
    "# Preencha os valores faltantes com \"Não Reproduzida\"."
   ]
  },
  {
   "cell_type": "code",
   "execution_count": null,
   "id": "57f8cae1",
   "metadata": {},
   "outputs": [],
   "source": [
    "# Análise os dados:\n",
    "\n",
    "# Qual o gênero de música mais reproduzido? Use agrupamento para calcular isso.\n",
    "\n",
    "\n",
    "# Qual o total de minutos de música reproduzidos?\n",
    "\n",
    "\n",
    "# Crie uma nova coluna chamada avaliacao e atribua uma classificação de 1 a 5 para cada música com base em quanto você gosta dela."
   ]
  }
 ],
 "metadata": {
  "kernelspec": {
   "display_name": "Python 3 (ipykernel)",
   "language": "python",
   "name": "python3"
  },
  "language_info": {
   "codemirror_mode": {
    "name": "ipython",
    "version": 3
   },
   "file_extension": ".py",
   "mimetype": "text/x-python",
   "name": "python",
   "nbconvert_exporter": "python",
   "pygments_lexer": "ipython3",
   "version": "3.12.5"
  }
 },
 "nbformat": 4,
 "nbformat_minor": 5
}
