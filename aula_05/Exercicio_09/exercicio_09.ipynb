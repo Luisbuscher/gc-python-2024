{
 "cells": [
  {
   "cell_type": "code",
<<<<<<< HEAD
   "execution_count": 31,
=======
   "execution_count": 39,
>>>>>>> c479b59bceccdd0ca242d33d0c5e78df9b167e4d
   "id": "9f994605-382e-4c04-9941-44f3d00aa5ee",
   "metadata": {},
   "outputs": [
    {
<<<<<<< HEAD
     "data": {
      "text/plain": [
       "np.int64(10)"
      ]
     },
     "execution_count": 31,
     "metadata": {},
     "output_type": "execute_result"
=======
     "name": "stdout",
     "output_type": "stream",
     "text": [
      "Unnamed: 0                4\n",
      "Nomes         Heroi o filme\n",
      "Ano                    2008\n",
      "Notas                    10\n",
      "Name: 4, dtype: object\n",
      "Unnamed: 0                    3\n",
      "Nomes         Princesinha Sofia\n",
      "Ano                        2012\n",
      "Nota                         10\n",
      "Name: 3, dtype: object\n",
      "Unnamed: 0            3\n",
      "Nomes         Kono Suba\n",
      "Ano                2019\n",
      "Nota                 10\n",
      "Name: 3, dtype: object\n"
     ]
>>>>>>> c479b59bceccdd0ca242d33d0c5e78df9b167e4d
    }
   ],
   "source": [
    "import pandas as pd\n",
<<<<<<< HEAD
    "\n",
    "# Use 3 dataframes criados na aula anterior, mostre apenas o filme/série/anime com maior pontuação.\n",
    "filmes = pd.read_csv('filmes.csv')\n",
    "animes = pd.read_csv('animes.csv')\n",
    "desenhos = pd.read_csv('desenhos.csv')\n",
    "\n",
    "filmes['Notas'].max()"
=======
    "# Use 3 dataframes criados na aula anterior, mostre apenas o filme/série/anime com maior pontuação.\n",
    "\n",
    "df_filmes = pd.read_csv('filmes.csv')\n",
    "df_desenhos = pd.read_csv('desenhos.csv')\n",
    "df_animes = pd.read_csv('animes.csv')\n",
    "\n",
    "filme_top = df_filmes.loc[df_filmes['Notas'].idxmax()]\n",
    "\n",
    "desenho_top = df_desenhos.loc[df_desenhos['Nota'].idxmax()]\n",
    "\n",
    "anime_top = df_animes.loc[df_animes['Nota'].idxmax()]\n",
    "\n",
    "print(f'{filme_top}\\n{desenho_top}\\n{anime_top}')"
   ]
  },
  {
   "cell_type": "code",
   "execution_count": 40,
   "id": "82b250b7",
   "metadata": {},
   "outputs": [
    {
     "name": "stdout",
     "output_type": "stream",
     "text": [
      "                  Nomes   Ano  Notas\n",
      "0              Deadpool  2016      7\n",
      "1      Quebrando Regras  2008      9\n",
      "2             Elementos  2023      9\n",
      "3  Velozes e Furiosos 2  2003      8\n",
      "4         Heroi o filme  2008     10\n"
     ]
    }
   ],
   "source": [
    "# Leia o arquivo do dataset em json.\n",
    "\n",
    "df_filmes = pd.read_json('filmes.json')\n",
    "print(df_filmes)"
>>>>>>> c479b59bceccdd0ca242d33d0c5e78df9b167e4d
   ]
  },
  {
   "cell_type": "code",
<<<<<<< HEAD
   "execution_count": 32,
   "id": "ba7a2b89-f2b6-4fd5-8ec3-f52b5aed2ff7",
   "metadata": {},
   "outputs": [
    {
     "data": {
      "text/plain": [
       "np.int64(10)"
      ]
     },
     "execution_count": 32,
     "metadata": {},
     "output_type": "execute_result"
    }
   ],
   "source": [
    "animes['Nota'].max()"
=======
   "execution_count": 41,
   "id": "cd380d32",
   "metadata": {},
   "outputs": [
    {
     "name": "stdout",
     "output_type": "stream",
     "text": [
      "                  Nomes   Ano  Notas\n",
      "0              Deadpool  2016      7\n",
      "1      Quebrando Regras  2008      9\n",
      "2             Elementos  2023      9\n",
      "3  Velozes e Furiosos 2  2003      8\n",
      "4         Heroi o filme  2008     10\n"
     ]
    }
   ],
   "source": [
    "# Selecione apenas as 3 primeiras colunas do dataset.\n",
    "\n",
    "df_filmes = pd.read_json('filmes.json')\n",
    "\n",
    "df_filmes_3_colunas = df_filmes.iloc[:, :3]\n",
    "\n",
    "print(df_filmes_3_colunas)"
>>>>>>> c479b59bceccdd0ca242d33d0c5e78df9b167e4d
   ]
  },
  {
   "cell_type": "code",
<<<<<<< HEAD
   "execution_count": 33,
   "id": "bede11cd-1ae1-4e39-a6d1-540f54c6055d",
   "metadata": {},
   "outputs": [
    {
     "data": {
      "text/plain": [
       "np.int64(10)"
      ]
     },
     "execution_count": 33,
     "metadata": {},
     "output_type": "execute_result"
    }
   ],
   "source": [
    "desenhos['Nota'].max()"
=======
   "execution_count": 42,
   "id": "151fe88b",
   "metadata": {},
   "outputs": [
    {
     "name": "stdout",
     "output_type": "stream",
     "text": [
      "                  Nomes   Ano  Notas\n",
      "0              Deadpool  2016      7\n",
      "1      Quebrando Regras  2008      9\n",
      "2             Elementos  2023      9\n",
      "3  Velozes e Furiosos 2  2003      8\n",
      "4         Heroi o filme  2008     10\n"
     ]
    }
   ],
   "source": [
    "# Selecione apenas as 10 primeiras linhas do dataset.\n",
    "\n",
    "df_filmes = pd.read_json('filmes.json')\n",
    "\n",
    "df_filmes_10_linhas = df_filmes.head(10)\n",
    "\n",
    "print(df_filmes_10_linhas)"
>>>>>>> c479b59bceccdd0ca242d33d0c5e78df9b167e4d
   ]
  },
  {
   "cell_type": "code",
<<<<<<< HEAD
   "execution_count": 27,
   "id": "788e85b4-20a1-4b5c-9d89-2c9fbee10a34",
   "metadata": {},
   "outputs": [
    {
     "data": {
      "text/html": [
       "<div>\n",
       "<style scoped>\n",
       "    .dataframe tbody tr th:only-of-type {\n",
       "        vertical-align: middle;\n",
       "    }\n",
       "\n",
       "    .dataframe tbody tr th {\n",
       "        vertical-align: top;\n",
       "    }\n",
       "\n",
       "    .dataframe thead th {\n",
       "        text-align: right;\n",
       "    }\n",
       "</style>\n",
       "<table border=\"1\" class=\"dataframe\">\n",
       "  <thead>\n",
       "    <tr style=\"text-align: right;\">\n",
       "      <th></th>\n",
       "      <th>Unnamed: 0</th>\n",
       "      <th>Nomes</th>\n",
       "      <th>Ano</th>\n",
       "      <th>Nota</th>\n",
       "    </tr>\n",
       "  </thead>\n",
       "  <tbody>\n",
       "    <tr>\n",
       "      <th>0</th>\n",
       "      <td>0</td>\n",
       "      <td>One Piece</td>\n",
       "      <td>1997</td>\n",
       "      <td>9</td>\n",
       "    </tr>\n",
       "    <tr>\n",
       "      <th>1</th>\n",
       "      <td>1</td>\n",
       "      <td>Fairy Tail</td>\n",
       "      <td>2009</td>\n",
       "      <td>8</td>\n",
       "    </tr>\n",
       "    <tr>\n",
       "      <th>2</th>\n",
       "      <td>2</td>\n",
       "      <td>Kimetsu No Yaiba</td>\n",
       "      <td>2016</td>\n",
       "      <td>8</td>\n",
       "    </tr>\n",
       "    <tr>\n",
       "      <th>3</th>\n",
       "      <td>3</td>\n",
       "      <td>Kono Suba</td>\n",
       "      <td>2019</td>\n",
       "      <td>10</td>\n",
       "    </tr>\n",
       "    <tr>\n",
       "      <th>4</th>\n",
       "      <td>4</td>\n",
       "      <td>Boku no Hero</td>\n",
       "      <td>2014</td>\n",
       "      <td>7</td>\n",
       "    </tr>\n",
       "  </tbody>\n",
       "</table>\n",
       "</div>"
      ],
      "text/plain": [
       "   Unnamed: 0             Nomes   Ano  Nota\n",
       "0           0         One Piece  1997     9\n",
       "1           1        Fairy Tail  2009     8\n",
       "2           2  Kimetsu No Yaiba  2016     8\n",
       "3           3         Kono Suba  2019    10\n",
       "4           4      Boku no Hero  2014     7"
      ]
     },
     "execution_count": 27,
     "metadata": {},
     "output_type": "execute_result"
    }
   ],
   "source": [
    "desenhos"
=======
   "execution_count": 43,
   "id": "c1576d2f",
   "metadata": {},
   "outputs": [
    {
     "name": "stdout",
     "output_type": "stream",
     "text": [
      "              Nomes   Ano  Notas\n",
      "1  Quebrando Regras  2008      9\n",
      "2         Elementos  2023      9\n",
      "4     Heroi o filme  2008     10\n"
     ]
    }
   ],
   "source": [
    "# Filtre o dataframe pegando apenas as linhas com valores maiores que essa média.\n",
    "\n",
    "df_filmes = pd.read_json('filmes.json')\n",
    "\n",
    "media_notas = df_filmes['Notas'].mean()\n",
    "\n",
    "df_filmes_acima_media = df_filmes[df_filmes['Notas'] > media_notas]\n",
    "\n",
    "print(df_filmes_acima_media)"
   ]
  },
  {
   "cell_type": "code",
   "execution_count": 44,
   "id": "8e238410",
   "metadata": {},
   "outputs": [
    {
     "name": "stdout",
     "output_type": "stream",
     "text": [
      "      Nomes   Ano  Notas\n",
      "0  Deadpool  2016      7\n"
     ]
    }
   ],
   "source": [
    "# Escolha uma coluna com valores textuais e filtre o dataframe pelo 1º valor.\n",
    "\n",
    "df_filmes = pd.read_json('filmes.json')\n",
    "\n",
    "primeiro_valor_nome = df_filmes['Nomes'].iloc[0]\n",
    "\n",
    "df_filmes_primeiro_valor = df_filmes[df_filmes['Nomes'] == primeiro_valor_nome]\n",
    "\n",
    "print(df_filmes_primeiro_valor)"
   ]
  },
  {
   "cell_type": "code",
   "execution_count": 46,
   "id": "196d4ee4",
   "metadata": {},
   "outputs": [
    {
     "name": "stdout",
     "output_type": "stream",
     "text": [
      "Dataframe ordenado por Ano (crescente):\n",
      "                  Nomes   Ano  Notas\n",
      "3  Velozes e Furiosos 2  2003      8\n",
      "1      Quebrando Regras  2008      9\n",
      "4         Heroi o filme  2008     10\n",
      "0              Deadpool  2016      7\n",
      "2             Elementos  2023      9\n",
      "\n",
      "Dataframe ordenado por Ano (decrescente):\n",
      "                  Nomes   Ano  Notas\n",
      "2             Elementos  2023      9\n",
      "0              Deadpool  2016      7\n",
      "1      Quebrando Regras  2008      9\n",
      "4         Heroi o filme  2008     10\n",
      "3  Velozes e Furiosos 2  2003      8\n"
     ]
    }
   ],
   "source": [
    "# Escolha uma coluna, como ano, titulo, etc e ordene seu dataframe tanto de forma crescente quanto decrescente.\n",
    "\n",
    "df_filmes = pd.read_json('filmes.json')\n",
    "\n",
    "df_ordenado_crescente = df_filmes.sort_values(by='Ano', ascending=True)\n",
    "\n",
    "df_ordenado_decrescente = df_filmes.sort_values(by='Ano', ascending=False)\n",
    "\n",
    "print(\"Dataframe ordenado por Ano (crescente):\")\n",
    "print(df_ordenado_crescente)\n",
    "\n",
    "print(\"\\nDataframe ordenado por Ano (decrescente):\")\n",
    "print(df_ordenado_decrescente)"
>>>>>>> c479b59bceccdd0ca242d33d0c5e78df9b167e4d
   ]
  }
 ],
 "metadata": {
  "kernelspec": {
   "display_name": "Python 3 (ipykernel)",
   "language": "python",
   "name": "python3"
  },
  "language_info": {
   "codemirror_mode": {
    "name": "ipython",
    "version": 3
   },
   "file_extension": ".py",
   "mimetype": "text/x-python",
   "name": "python",
   "nbconvert_exporter": "python",
   "pygments_lexer": "ipython3",
   "version": "3.12.5"
  }
 },
 "nbformat": 4,
 "nbformat_minor": 5
}
