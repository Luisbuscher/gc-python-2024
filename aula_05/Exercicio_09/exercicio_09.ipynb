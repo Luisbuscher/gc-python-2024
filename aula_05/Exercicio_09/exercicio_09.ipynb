{
 "cells": [
  {
   "cell_type": "code",
   "execution_count": 39,
   "id": "9f994605-382e-4c04-9941-44f3d00aa5ee",
   "metadata": {},
   "outputs": [
    {
     "name": "stdout",
     "output_type": "stream",
     "text": [
      "Unnamed: 0                4\n",
      "Nomes         Heroi o filme\n",
      "Ano                    2008\n",
      "Notas                    10\n",
      "Name: 4, dtype: object\n",
      "Unnamed: 0                    3\n",
      "Nomes         Princesinha Sofia\n",
      "Ano                        2012\n",
      "Nota                         10\n",
      "Name: 3, dtype: object\n",
      "Unnamed: 0            3\n",
      "Nomes         Kono Suba\n",
      "Ano                2019\n",
      "Nota                 10\n",
      "Name: 3, dtype: object\n"
     ]
    }
   ],
   "source": [
    "import pandas as pd\n",
    "# Use 3 dataframes criados na aula anterior, mostre apenas o filme/série/anime com maior pontuação.\n",
    "\n",
    "df_filmes = pd.read_csv('filmes.csv')\n",
    "df_desenhos = pd.read_csv('desenhos.csv')\n",
    "df_animes = pd.read_csv('animes.csv')\n",
    "\n",
    "filme_top = df_filmes.loc[df_filmes['Notas'].idxmax()]\n",
    "\n",
    "desenho_top = df_desenhos.loc[df_desenhos['Nota'].idxmax()]\n",
    "\n",
    "anime_top = df_animes.loc[df_animes['Nota'].idxmax()]\n",
    "\n",
    "print(f'{filme_top}\\n{desenho_top}\\n{anime_top}')"
   ]
  },
  {
   "cell_type": "code",
   "execution_count": 40,
   "id": "82b250b7",
   "metadata": {},
   "outputs": [
    {
     "name": "stdout",
     "output_type": "stream",
     "text": [
      "                  Nomes   Ano  Notas\n",
      "0              Deadpool  2016      7\n",
      "1      Quebrando Regras  2008      9\n",
      "2             Elementos  2023      9\n",
      "3  Velozes e Furiosos 2  2003      8\n",
      "4         Heroi o filme  2008     10\n"
     ]
    }
   ],
   "source": [
    "# Leia o arquivo do dataset em json.\n",
    "\n",
    "df_filmes = pd.read_json('filmes.json')\n",
    "print(df_filmes)"
   ]
  },
  {
   "cell_type": "code",
   "execution_count": 41,
   "id": "cd380d32",
   "metadata": {},
   "outputs": [
    {
     "name": "stdout",
     "output_type": "stream",
     "text": [
      "                  Nomes   Ano  Notas\n",
      "0              Deadpool  2016      7\n",
      "1      Quebrando Regras  2008      9\n",
      "2             Elementos  2023      9\n",
      "3  Velozes e Furiosos 2  2003      8\n",
      "4         Heroi o filme  2008     10\n"
     ]
    }
   ],
   "source": [
    "# Selecione apenas as 3 primeiras colunas do dataset.\n",
    "\n",
    "df_filmes = pd.read_json('filmes.json')\n",
    "\n",
    "df_filmes_3_colunas = df_filmes.iloc[:, :3]\n",
    "\n",
    "print(df_filmes_3_colunas)"
   ]
  },
  {
   "cell_type": "code",
   "execution_count": 42,
   "id": "151fe88b",
   "metadata": {},
   "outputs": [
    {
     "name": "stdout",
     "output_type": "stream",
     "text": [
      "                  Nomes   Ano  Notas\n",
      "0              Deadpool  2016      7\n",
      "1      Quebrando Regras  2008      9\n",
      "2             Elementos  2023      9\n",
      "3  Velozes e Furiosos 2  2003      8\n",
      "4         Heroi o filme  2008     10\n"
     ]
    }
   ],
   "source": [
    "# Selecione apenas as 10 primeiras linhas do dataset.\n",
    "\n",
    "df_filmes = pd.read_json('filmes.json')\n",
    "\n",
    "df_filmes_10_linhas = df_filmes.head(10)\n",
    "\n",
    "print(df_filmes_10_linhas)"
   ]
  },
  {
   "cell_type": "code",
   "execution_count": 43,
   "id": "c1576d2f",
   "metadata": {},
   "outputs": [
    {
     "name": "stdout",
     "output_type": "stream",
     "text": [
      "              Nomes   Ano  Notas\n",
      "1  Quebrando Regras  2008      9\n",
      "2         Elementos  2023      9\n",
      "4     Heroi o filme  2008     10\n"
     ]
    }
   ],
   "source": [
    "# Filtre o dataframe pegando apenas as linhas com valores maiores que essa média.\n",
    "\n",
    "df_filmes = pd.read_json('filmes.json')\n",
    "\n",
    "media_notas = df_filmes['Notas'].mean()\n",
    "\n",
    "df_filmes_acima_media = df_filmes[df_filmes['Notas'] > media_notas]\n",
    "\n",
    "print(df_filmes_acima_media)"
   ]
  },
  {
   "cell_type": "code",
   "execution_count": 44,
   "id": "8e238410",
   "metadata": {},
   "outputs": [
    {
     "name": "stdout",
     "output_type": "stream",
     "text": [
      "      Nomes   Ano  Notas\n",
      "0  Deadpool  2016      7\n"
     ]
    }
   ],
   "source": [
    "# Escolha uma coluna com valores textuais e filtre o dataframe pelo 1º valor.\n",
    "\n",
    "df_filmes = pd.read_json('filmes.json')\n",
    "\n",
    "primeiro_valor_nome = df_filmes['Nomes'].iloc[0]\n",
    "\n",
    "df_filmes_primeiro_valor = df_filmes[df_filmes['Nomes'] == primeiro_valor_nome]\n",
    "\n",
    "print(df_filmes_primeiro_valor)"
   ]
  },
  {
   "cell_type": "code",
   "execution_count": 46,
   "id": "196d4ee4",
   "metadata": {},
   "outputs": [
    {
     "name": "stdout",
     "output_type": "stream",
     "text": [
      "Dataframe ordenado por Ano (crescente):\n",
      "                  Nomes   Ano  Notas\n",
      "3  Velozes e Furiosos 2  2003      8\n",
      "1      Quebrando Regras  2008      9\n",
      "4         Heroi o filme  2008     10\n",
      "0              Deadpool  2016      7\n",
      "2             Elementos  2023      9\n",
      "\n",
      "Dataframe ordenado por Ano (decrescente):\n",
      "                  Nomes   Ano  Notas\n",
      "2             Elementos  2023      9\n",
      "0              Deadpool  2016      7\n",
      "1      Quebrando Regras  2008      9\n",
      "4         Heroi o filme  2008     10\n",
      "3  Velozes e Furiosos 2  2003      8\n"
     ]
    }
   ],
   "source": [
    "# Escolha uma coluna, como ano, titulo, etc e ordene seu dataframe tanto de forma crescente quanto decrescente.\n",
    "\n",
    "df_filmes = pd.read_json('filmes.json')\n",
    "\n",
    "df_ordenado_crescente = df_filmes.sort_values(by='Ano', ascending=True)\n",
    "\n",
    "df_ordenado_decrescente = df_filmes.sort_values(by='Ano', ascending=False)\n",
    "\n",
    "print(\"Dataframe ordenado por Ano (crescente):\")\n",
    "print(df_ordenado_crescente)\n",
    "\n",
    "print(\"\\nDataframe ordenado por Ano (decrescente):\")\n",
    "print(df_ordenado_decrescente)"
   ]
  }
 ],
 "metadata": {
  "kernelspec": {
   "display_name": "Python 3 (ipykernel)",
   "language": "python",
   "name": "python3"
  },
  "language_info": {
   "codemirror_mode": {
    "name": "ipython",
    "version": 3
   },
   "file_extension": ".py",
   "mimetype": "text/x-python",
   "name": "python",
   "nbconvert_exporter": "python",
   "pygments_lexer": "ipython3",
   "version": "3.12.5"
  }
 },
 "nbformat": 4,
 "nbformat_minor": 5
}
