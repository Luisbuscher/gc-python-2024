{
 "cells": [
  {
   "cell_type": "code",
   "execution_count": null,
   "metadata": {},
   "outputs": [],
   "source": [
    "# O que é uma chave primária em um banco de dados? Por que é importante que cada tabela tenha uma chave primária?\n",
    "\n",
    "# RESPOSTA: Uma chave primária é um campo que identifica cada registro de forma única em uma tabela de banco de dados. \n",
    "# Ela é importante porque garante que não haja registros duplicados, ajuda a relacionar tabelas e melhora o desempenho nas consultas."
   ]
  },
  {
   "cell_type": "code",
   "execution_count": null,
   "metadata": {},
   "outputs": [],
   "source": [
    "# Em um dataframe do Pandas, como você pode identificar uma coluna que atua como uma chave primária?\n",
    "\n",
    "# RESPOSTA:\n",
    "\n",
    "df['coluna_chave'].is_unique\n",
    "\n",
    "df['coluna_chave'].isnull().sum() == 0"
   ]
  },
  {
   "cell_type": "code",
   "execution_count": null,
   "metadata": {},
   "outputs": [],
   "source": [
    "# O que são chaves estrangeiras e como elas se relacionam com as chaves primárias?\n",
    "\n",
    "# RESPOSTA:\n",
    "# Chaves estrangeiras são colunas em uma tabela que se referem a chave primária de outra tabela. \n",
    "# Elas são usadas para criar relacionamentos (referenciar colunas) entre tabelas em um banco de dados."
   ]
  },
  {
   "cell_type": "code",
   "execution_count": null,
   "metadata": {},
   "outputs": [],
   "source": [
    "# Explique como a relação entre duas tabelas com chaves primárias e estrangeiras pode ser representada com dataframes no Pandas.\n",
    "\n",
    "# RESPOSTA:\n",
    "# A relação entre duas tabelas com chaves primárias e estrangeiras pode ser representada em dataframes no Pandas usando o método merge(). \n",
    "# Por exemplo, se um dataframe df_usuarios tem user_id como chave primária e df_pedidos tem user_id como chave estrangeira\n",
    "# Da pra fazer isso\n",
    "\n",
    "df_resultado = df_pedidos.merge(df_usuarios, on='user_id')"
   ]
  },
  {
   "cell_type": "code",
   "execution_count": null,
   "metadata": {},
   "outputs": [],
   "source": [
    "# Qual a diferença entre os métodos .merge() e .join() no Pandas?\n",
    "\n",
    "# RESPOSTA:\n",
    "# merge une dataframes com base em colunas específicas e permite escolher o tipo de junção.\n",
    "# join somente une dataframes com base nos índices."
   ]
  },
  {
   "cell_type": "code",
   "execution_count": null,
   "metadata": {},
   "outputs": [],
   "source": [
    "# Quando você usaria um inner join ao invés de um left join? Explique com exemplos.\n",
    "\n",
    "# RESPOSTA:\n",
    "# Eu usaria um inner join quando quero apenas as linhas que têm correspondência em ambas as tabelas. \n",
    "# Por exemplo, se tiver uma tabela de clientes e uma de pedidos, um inner join vai mostrar só os clientes que fizeram pedidos.\n",
    "# O left join é útil quando quero ver todos os clientes, mesmo aqueles que não fizeram pedidos. Assim, ele mostra todos da tabela de clientes e preenche com NaN onde não há pedidos."
   ]
  },
  {
   "cell_type": "code",
   "execution_count": null,
   "metadata": {},
   "outputs": [],
   "source": [
    "# Em que situação um merge resultaria em valores faltantes? Como podemos lidar com esses valores?\n",
    "\n",
    "# RESPOSTA:\n",
    "# Um merge pode ter valores faltantes (NaN) quando não há correspondência entre as tabelas. \n",
    "# Por exemplo, se você fizer um left join e alguns registros da tabela da direita não encontrarem correspondência na tabela da esquerda, vão aparecer como NaN."
   ]
  },
  {
   "cell_type": "code",
   "execution_count": null,
   "metadata": {},
   "outputs": [],
   "source": [
    "# Quais são as maneiras de tratar dados faltantes no Pandas? Explique os métodos .dropna() e .fillna().\n",
    "\n",
    "# RESPOSTA:\n",
    "# dropna remove as linhas ou colunas que têm NaN. É útil quando nao quero lidar com dados faltantes e pode se livrar deles.\n",
    "# fillna substitui os NaN por um valor específico, como zero ou uma string. Isso é bom se eu quisere manter os dados e preencher as lacunas."
   ]
  }
 ],
 "metadata": {
  "language_info": {
   "name": "python"
  }
 },
 "nbformat": 4,
 "nbformat_minor": 2
}
