{
 "cells": [
  {
   "cell_type": "code",
   "execution_count": 1,
   "id": "c1672b01-d348-4ed3-b419-596f66601864",
   "metadata": {},
   "outputs": [],
   "source": [
    "# Você é um professor que deseja analisar as notas de dois grupos de alunos em um teste de matemática. \n",
    "# Carregue o dataset chamado 17_notas_grupos.csv, que contém duas colunas: Grupo_A e Grupo_B, representando as notas dos alunos.\n",
    "\n",
    "# Calcule e compare:\n",
    "# 1. a média das notas de ambos os grupos\n",
    "# 2. a mediana das notas de ambos os grupos\n",
    "# 3. o desvio padrão das notas de ambos os grupos..\n",
    "\n",
    "# Não se esquça de imprimir os resultados comparando as duas turmas para cada resultado obtido, mas garanta que está em uma forma amigável e fácil de entender."
   ]
  },
  {
   "cell_type": "code",
   "execution_count": 2,
   "id": "9354e510-bd2f-45a4-a26f-e9a23425f638",
   "metadata": {},
   "outputs": [
    {
     "data": {
      "text/html": [
       "<div>\n",
       "<style scoped>\n",
       "    .dataframe tbody tr th:only-of-type {\n",
       "        vertical-align: middle;\n",
       "    }\n",
       "\n",
       "    .dataframe tbody tr th {\n",
       "        vertical-align: top;\n",
       "    }\n",
       "\n",
       "    .dataframe thead th {\n",
       "        text-align: right;\n",
       "    }\n",
       "</style>\n",
       "<table border=\"1\" class=\"dataframe\">\n",
       "  <thead>\n",
       "    <tr style=\"text-align: right;\">\n",
       "      <th></th>\n",
       "      <th>Grupo_A</th>\n",
       "      <th>Grupo_B</th>\n",
       "    </tr>\n",
       "  </thead>\n",
       "  <tbody>\n",
       "    <tr>\n",
       "      <th>0</th>\n",
       "      <td>51</td>\n",
       "      <td>23</td>\n",
       "    </tr>\n",
       "    <tr>\n",
       "      <th>1</th>\n",
       "      <td>92</td>\n",
       "      <td>25</td>\n",
       "    </tr>\n",
       "    <tr>\n",
       "      <th>2</th>\n",
       "      <td>14</td>\n",
       "      <td>88</td>\n",
       "    </tr>\n",
       "    <tr>\n",
       "      <th>3</th>\n",
       "      <td>71</td>\n",
       "      <td>59</td>\n",
       "    </tr>\n",
       "    <tr>\n",
       "      <th>4</th>\n",
       "      <td>60</td>\n",
       "      <td>40</td>\n",
       "    </tr>\n",
       "  </tbody>\n",
       "</table>\n",
       "</div>"
      ],
      "text/plain": [
       "   Grupo_A  Grupo_B\n",
       "0       51       23\n",
       "1       92       25\n",
       "2       14       88\n",
       "3       71       59\n",
       "4       60       40"
      ]
     },
     "execution_count": 2,
     "metadata": {},
     "output_type": "execute_result"
    }
   ],
   "source": [
    "import pandas as pd\n",
    "\n",
    "df_notas = pd.read_csv(\"17_notas_grupos.csv\")\n",
    "df_notas.head()"
   ]
  },
  {
   "cell_type": "code",
   "execution_count": 3,
   "id": "5bff72a6-044c-4a3f-bb05-d3c0fbc87f2c",
   "metadata": {},
   "outputs": [
    {
     "data": {
      "text/plain": [
       "Grupo_A    51.31\n",
       "Grupo_B    48.05\n",
       "dtype: float64"
      ]
     },
     "execution_count": 3,
     "metadata": {},
     "output_type": "execute_result"
    }
   ],
   "source": [
    "df_notas.mean()"
   ]
  },
  {
   "cell_type": "code",
   "execution_count": 4,
   "id": "2a3b7830-aaf5-4665-ad7f-f179bdd7d929",
   "metadata": {},
   "outputs": [
    {
     "data": {
      "text/plain": [
       "Grupo_A    53.5\n",
       "Grupo_B    43.5\n",
       "dtype: float64"
      ]
     },
     "execution_count": 4,
     "metadata": {},
     "output_type": "execute_result"
    }
   ],
   "source": [
    "df_notas.median()"
   ]
  },
  {
   "cell_type": "code",
   "execution_count": 5,
   "id": "e2696ab4-f532-41b3-9bf1-8517f1671baf",
   "metadata": {},
   "outputs": [
    {
     "data": {
      "text/plain": [
       "Grupo_A    29.704163\n",
       "Grupo_B    30.742783\n",
       "dtype: float64"
      ]
     },
     "execution_count": 5,
     "metadata": {},
     "output_type": "execute_result"
    }
   ],
   "source": [
    "df_notas.std()"
   ]
  },
  {
   "cell_type": "code",
   "execution_count": null,
   "id": "3e09ffa6-93ff-48fa-a565-fe02cf1f68d0",
   "metadata": {},
   "outputs": [],
   "source": []
  }
 ],
 "metadata": {
  "kernelspec": {
   "display_name": "Python 3 (ipykernel)",
   "language": "python",
   "name": "python3"
  },
  "language_info": {
   "codemirror_mode": {
    "name": "ipython",
    "version": 3
   },
   "file_extension": ".py",
   "mimetype": "text/x-python",
   "name": "python",
   "nbconvert_exporter": "python",
   "pygments_lexer": "ipython3",
   "version": "3.12.4"
  }
 },
 "nbformat": 4,
 "nbformat_minor": 5
}
