{
 "cells": [
  {
   "cell_type": "code",
   "execution_count": null,
   "id": "c1672b01-d348-4ed3-b419-596f66601864",
   "metadata": {},
   "outputs": [],
   "source": [
    "# Você é um professor que deseja analisar as notas de dois grupos de alunos em um teste de matemática. \n",
    "# Carregue o dataset chamado 17_notas_grupos.csv, que contém duas colunas: Grupo_A e Grupo_B, representando as notas dos alunos.\n",
    "\n",
    "# Calcule e compare:\n",
    "# 1. a média das notas de ambos os grupos\n",
    "# 2. a mediana das notas de ambos os grupos\n",
    "# 3. o desvio padrão das notas de ambos os grupos..\n",
    "\n",
    "# Não se esquça de imprimir os resultados comparando as duas turmas para cada resultado obtido, mas garanta que está em uma forma amigável e fácil de entender."
   ]
  },
  {
   "cell_type": "code",
   "execution_count": null,
   "id": "9354e510-bd2f-45a4-a26f-e9a23425f638",
   "metadata": {},
   "outputs": [],
   "source": [
    "import pandas as pd"
   ]
  }
 ],
 "metadata": {
  "kernelspec": {
   "display_name": "Python 3 (ipykernel)",
   "language": "python",
   "name": "python3"
  },
  "language_info": {
   "codemirror_mode": {
    "name": "ipython",
    "version": 3
   },
   "file_extension": ".py",
   "mimetype": "text/x-python",
   "name": "python",
   "nbconvert_exporter": "python",
   "pygments_lexer": "ipython3",
   "version": "3.12.4"
  }
 },
 "nbformat": 4,
 "nbformat_minor": 5
}
