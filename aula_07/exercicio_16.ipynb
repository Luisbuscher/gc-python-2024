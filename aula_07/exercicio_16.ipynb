{
 "cells": [
  {
   "cell_type": "code",
   "execution_count": 9,
   "id": "81193efa-ab8b-41e8-8633-3c1a35e3e911",
   "metadata": {},
   "outputs": [
    {
     "data": {
      "text/html": [
       "<div>\n",
       "<style scoped>\n",
       "    .dataframe tbody tr th:only-of-type {\n",
       "        vertical-align: middle;\n",
       "    }\n",
       "\n",
       "    .dataframe tbody tr th {\n",
       "        vertical-align: top;\n",
       "    }\n",
       "\n",
       "    .dataframe thead th {\n",
       "        text-align: right;\n",
       "    }\n",
       "</style>\n",
       "<table border=\"1\" class=\"dataframe\">\n",
       "  <thead>\n",
       "    <tr style=\"text-align: right;\">\n",
       "      <th></th>\n",
       "      <th>Aluno</th>\n",
       "      <th>Idade</th>\n",
       "      <th>Matemática</th>\n",
       "      <th>Ciências</th>\n",
       "    </tr>\n",
       "  </thead>\n",
       "  <tbody>\n",
       "    <tr>\n",
       "      <th>0</th>\n",
       "      <td>1</td>\n",
       "      <td>17</td>\n",
       "      <td>67</td>\n",
       "      <td>60</td>\n",
       "    </tr>\n",
       "    <tr>\n",
       "      <th>1</th>\n",
       "      <td>2</td>\n",
       "      <td>15</td>\n",
       "      <td>83</td>\n",
       "      <td>78</td>\n",
       "    </tr>\n",
       "    <tr>\n",
       "      <th>2</th>\n",
       "      <td>3</td>\n",
       "      <td>17</td>\n",
       "      <td>70</td>\n",
       "      <td>61</td>\n",
       "    </tr>\n",
       "    <tr>\n",
       "      <th>3</th>\n",
       "      <td>4</td>\n",
       "      <td>17</td>\n",
       "      <td>76</td>\n",
       "      <td>85</td>\n",
       "    </tr>\n",
       "    <tr>\n",
       "      <th>4</th>\n",
       "      <td>5</td>\n",
       "      <td>15</td>\n",
       "      <td>67</td>\n",
       "      <td>91</td>\n",
       "    </tr>\n",
       "  </tbody>\n",
       "</table>\n",
       "</div>"
      ],
      "text/plain": [
       "   Aluno  Idade  Matemática  Ciências\n",
       "0      1     17          67        60\n",
       "1      2     15          83        78\n",
       "2      3     17          70        61\n",
       "3      4     17          76        85\n",
       "4      5     15          67        91"
      ]
     },
     "execution_count": 9,
     "metadata": {},
     "output_type": "execute_result"
    }
   ],
   "source": [
    "# Considere o dataset 16_dataset_notas_alunos.csv. Então, extraia as seguintes informações:\n",
    "import pandas as pd\n",
    "df_notas_alunos = pd.read_csv('16_dataset_notas_alunos.csv')\n",
    "df_notas_alunos.head()"
   ]
  },
  {
   "cell_type": "code",
   "execution_count": 11,
   "id": "33b76cbb-e66f-415f-9976-4bac73a755f4",
   "metadata": {},
   "outputs": [
    {
     "name": "stdout",
     "output_type": "stream",
     "text": [
      "Matemática    81.57\n",
      "Ciências      80.26\n",
      "dtype: float64\n"
     ]
    }
   ],
   "source": [
    "# Calcule a média das notas em Matemática e Ciências.\n",
    "media_notas = df_notas_alunos[['Matemática','Ciências']].mean()\n",
    "media_notas"
   ]
  },
  {
   "cell_type": "code",
   "execution_count": 12,
   "id": "3d31d73a-0bb1-4838-a19c-1d6b662307ef",
   "metadata": {},
   "outputs": [
    {
     "data": {
      "text/plain": [
       "Matemática    84.5\n",
       "Ciências      79.5\n",
       "dtype: float64"
      ]
     },
     "execution_count": 12,
     "metadata": {},
     "output_type": "execute_result"
    }
   ],
   "source": [
    "# Encontre a mediana das notas em Matemática e Ciências.\n",
    "mediana_notas = df_notas_alunos[['Matemática', 'Ciências']].median()\n",
    "mediana_notas"
   ]
  },
  {
   "cell_type": "code",
   "execution_count": 13,
   "id": "50bed8ab-b560-43b1-aebe-dccf6b4b1a20",
   "metadata": {},
   "outputs": [
    {
     "data": {
      "text/html": [
       "<div>\n",
       "<style scoped>\n",
       "    .dataframe tbody tr th:only-of-type {\n",
       "        vertical-align: middle;\n",
       "    }\n",
       "\n",
       "    .dataframe tbody tr th {\n",
       "        vertical-align: top;\n",
       "    }\n",
       "\n",
       "    .dataframe thead th {\n",
       "        text-align: right;\n",
       "    }\n",
       "</style>\n",
       "<table border=\"1\" class=\"dataframe\">\n",
       "  <thead>\n",
       "    <tr style=\"text-align: right;\">\n",
       "      <th></th>\n",
       "      <th>Matemática</th>\n",
       "      <th>Ciências</th>\n",
       "    </tr>\n",
       "  </thead>\n",
       "  <tbody>\n",
       "    <tr>\n",
       "      <th>0</th>\n",
       "      <td>98</td>\n",
       "      <td>92</td>\n",
       "    </tr>\n",
       "  </tbody>\n",
       "</table>\n",
       "</div>"
      ],
      "text/plain": [
       "   Matemática  Ciências\n",
       "0          98        92"
      ]
     },
     "execution_count": 13,
     "metadata": {},
     "output_type": "execute_result"
    }
   ],
   "source": [
    "# Determine a moda das notas em Matemática e Ciências.\n",
    "moda_notas = df_notas_alunos[['Matemática', 'Ciências']].mode()\n",
    "moda_notas"
   ]
  },
  {
   "cell_type": "code",
   "execution_count": 17,
   "id": "9a40f188-19c3-4347-973d-11f27a003616",
   "metadata": {},
   "outputs": [
    {
     "name": "stdout",
     "output_type": "stream",
     "text": [
      "Amplitude Matemática: 40\n",
      "Amplitude Ciências: 40\n"
     ]
    }
   ],
   "source": [
    "# Calcule a amplitude das notas em Matemática e Ciências.\n",
    "amplitude_matematica = df_notas_alunos['Matemática'].max() - df_notas_alunos['Matemática'].min()\n",
    "\n",
    "amplitude_ciencias = df_notas_alunos['Ciências'].max() - df_notas_alunos['Ciências'].min()\n",
    "\n",
    "print(f'Amplitude Matemática: {amplitude_matematica}\\nAmplitude Ciências: {amplitude_ciencias}')"
   ]
  },
  {
   "cell_type": "code",
   "execution_count": 18,
   "id": "1c5fa312-720d-42e5-b037-57343f5f782f",
   "metadata": {},
   "outputs": [
    {
     "name": "stdout",
     "output_type": "stream",
     "text": [
      "Variancia Matemática: 160.75262626262628\n",
      "Variancia Ciências: 150.1539393939394\n"
     ]
    }
   ],
   "source": [
    "# Calcule a variância das notas em Matemática e Ciências.\n",
    "variancia_matematica = df_notas_alunos['Matemática'].var()\n",
    "variancia_ciencias = df_notas_alunos['Ciências'].var()\n",
    "\n",
    "print(f'Variancia Matemática: {variancia_matematica}\\nVariancia Ciências: {variancia_ciencias}')"
   ]
  },
  {
   "cell_type": "code",
   "execution_count": 19,
   "id": "be25399e-d168-4145-9323-c8a774200b46",
   "metadata": {},
   "outputs": [
    {
     "name": "stdout",
     "output_type": "stream",
     "text": [
      "Desvio padrão matemática: 12.678825902370704\n",
      "Desvio padrão ciências: 12.253731651784259\n"
     ]
    }
   ],
   "source": [
    "# Calcule o desvio padrão das notas em Matemática e Ciências.\n",
    "desvio_matematica = df_notas_alunos['Matemática'].std()\n",
    "desvio_ciencias = df_notas_alunos['Ciências'].std()\n",
    "\n",
    "print(f'Desvio padrão matemática: {desvio_matematica}\\nDesvio padrão ciências: {desvio_ciencias}')"
   ]
  },
  {
   "cell_type": "code",
   "execution_count": 22,
   "id": "e847b1d4-6307-4ba3-a779-f62bd1662ac6",
   "metadata": {},
   "outputs": [
    {
     "name": "stdout",
     "output_type": "stream",
     "text": [
      "9.133131313131308\n"
     ]
    }
   ],
   "source": [
    "# Calcule a covariância entre as notas de Matemática e Ciências.\n",
    "covariancia = df_notas_alunos[['Matemática','Ciências']].cov().iloc[0,1]\n",
    "print(covariancia)"
   ]
  },
  {
   "cell_type": "code",
   "execution_count": 21,
   "id": "6ca80c41-2fc3-45c9-9dbe-72103729a3ad",
   "metadata": {},
   "outputs": [
    {
     "data": {
      "text/plain": [
       "np.float64(0.058785781765414935)"
      ]
     },
     "execution_count": 21,
     "metadata": {},
     "output_type": "execute_result"
    }
   ],
   "source": [
    "# Calcule a correlação entre as notas de Matemática e Ciências.\n",
    "correlacao = df_notas_alunos[['Matemática','Ciências']].corr().iloc[0,1]\n",
    "print(correlacao)"
   ]
  }
 ],
 "metadata": {
  "kernelspec": {
   "display_name": "Python 3 (ipykernel)",
   "language": "python",
   "name": "python3"
  },
  "language_info": {
   "codemirror_mode": {
    "name": "ipython",
    "version": 3
   },
   "file_extension": ".py",
   "mimetype": "text/x-python",
   "name": "python",
   "nbconvert_exporter": "python",
   "pygments_lexer": "ipython3",
   "version": "3.12.4"
  }
 },
 "nbformat": 4,
 "nbformat_minor": 5
}
