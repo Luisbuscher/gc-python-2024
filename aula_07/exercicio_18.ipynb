{
 "cells": [
  {
   "cell_type": "markdown",
   "id": "3a421ac6-99e4-4135-9bf9-ff60364a1554",
   "metadata": {},
   "source": [
    "# Exercício 18 (MINI BOSS): Análise de Desempenho Escolar\n",
    " \n",
    "Você é um cientista de dados contratado por uma escola para analisar o desempenho de três turmas (Turma A, Turma B, Turma C) em duas disciplinas: Matemática e Ciências.\n",
    "O objetivo é gerar um relatório completo utilizando as medidas estatísticas estudadas para entender o desempenho geral dos alunos e descobrir padrões importantes.\n",
    "Tarefas:\n",
    "\n",
    "    1. Carregar o dataset que contém as notas dos alunos das três turmas. O arquivo chama 18_analise_avancada.csv.\n",
    "    2. Calcular as seguintes medidas estatísticas para cada turma (A, B e C) em Matemática e Ciências:\n",
    "        a. Média\n",
    "        b. Mediana\n",
    "        c. Moda\n",
    "        d. Amplitude (diferença entre a maior e a menor nota)\n",
    "        e. Variância\n",
    "        f. Desvio Padrão\n",
    "        g. Covariância e Correlação entre Matemática e Ciências\n",
    "\n",
    "# Conclusões:\n",
    "\n",
    "    1. Com base nas medidas acima, qual turma teve o melhor desempenho geral em Matemática e Ciências?\n",
    "    2. Qual turma tem as notas mais consistentes em termos de desvio padrão?\n",
    "    3. Existe uma correlação entre o desempenho em Matemática e Ciências para cada\n",
    "    turma? Essa correlação é positiva ou negativa?\n",
    "    4. Qual turma apresenta a maior amplitude de notas? O que isso nos diz sobre a desigualdade de desempenho dentro da turma? Formato das respostas: Coloque as perguntas acima no seu notebook (ou como comentário, em casos de não utilizar o Jupyter notebook), e a resposta logo abaixo.\n",
    "        \n",
    "# Exemplo:\n",
    "\n",
    "    1. Pergunta legal que você vai ter que analisar.\n",
    "    Resposta: Essa resposta também é legal.\n"
   ]
  },
  {
   "cell_type": "code",
   "execution_count": 3,
   "id": "d70f73b5-61c5-406a-ab41-98e0c9f3b920",
   "metadata": {},
   "outputs": [
    {
     "data": {
      "text/html": [
       "<div>\n",
       "<style scoped>\n",
       "    .dataframe tbody tr th:only-of-type {\n",
       "        vertical-align: middle;\n",
       "    }\n",
       "\n",
       "    .dataframe tbody tr th {\n",
       "        vertical-align: top;\n",
       "    }\n",
       "\n",
       "    .dataframe thead th {\n",
       "        text-align: right;\n",
       "    }\n",
       "</style>\n",
       "<table border=\"1\" class=\"dataframe\">\n",
       "  <thead>\n",
       "    <tr style=\"text-align: right;\">\n",
       "      <th></th>\n",
       "      <th>Turma</th>\n",
       "      <th>Matemática</th>\n",
       "      <th>Ciências</th>\n",
       "    </tr>\n",
       "  </thead>\n",
       "  <tbody>\n",
       "    <tr>\n",
       "      <th>0</th>\n",
       "      <td>C</td>\n",
       "      <td>83</td>\n",
       "      <td>96</td>\n",
       "    </tr>\n",
       "    <tr>\n",
       "      <th>1</th>\n",
       "      <td>A</td>\n",
       "      <td>47</td>\n",
       "      <td>91</td>\n",
       "    </tr>\n",
       "    <tr>\n",
       "      <th>2</th>\n",
       "      <td>C</td>\n",
       "      <td>63</td>\n",
       "      <td>52</td>\n",
       "    </tr>\n",
       "    <tr>\n",
       "      <th>3</th>\n",
       "      <td>C</td>\n",
       "      <td>50</td>\n",
       "      <td>80</td>\n",
       "    </tr>\n",
       "    <tr>\n",
       "      <th>4</th>\n",
       "      <td>A</td>\n",
       "      <td>90</td>\n",
       "      <td>42</td>\n",
       "    </tr>\n",
       "  </tbody>\n",
       "</table>\n",
       "</div>"
      ],
      "text/plain": [
       "  Turma  Matemática  Ciências\n",
       "0     C          83        96\n",
       "1     A          47        91\n",
       "2     C          63        52\n",
       "3     C          50        80\n",
       "4     A          90        42"
      ]
     },
     "execution_count": 3,
     "metadata": {},
     "output_type": "execute_result"
    }
   ],
   "source": [
    "# Carregando o dataset.\n",
    "\n",
    "import pandas as pd\n",
    "\n",
    "df_turmas = pd.read_csv(\"18_analise_avancada.csv\")\n",
    "df_turmas.head()"
   ]
  },
  {
   "cell_type": "code",
   "execution_count": 10,
   "id": "ffc52836-39ad-4d56-89bc-519016bb4126",
   "metadata": {},
   "outputs": [
    {
     "ename": "SyntaxError",
     "evalue": "incomplete input (548493036.py, line 4)",
     "output_type": "error",
     "traceback": [
      "\u001b[0;36m  Cell \u001b[0;32mIn[10], line 4\u001b[0;36m\u001b[0m\n\u001b[0;31m    \u001b[0m\n\u001b[0m    ^\u001b[0m\n\u001b[0;31mSyntaxError\u001b[0m\u001b[0;31m:\u001b[0m incomplete input\n"
     ]
    }
   ],
   "source": [
    "# Calculando a media de cada turma para matematica e ciencias.\n",
    "for i in df_turmas[\"Turma\"]:\n",
    "    if i == \"A\":\n",
    "        "
   ]
  },
  {
   "cell_type": "code",
   "execution_count": null,
   "id": "b1ffe727-e6c2-40a1-a29a-4040edbe5d92",
   "metadata": {},
   "outputs": [],
   "source": []
  }
 ],
 "metadata": {
  "kernelspec": {
   "display_name": "Python 3 (ipykernel)",
   "language": "python",
   "name": "python3"
  },
  "language_info": {
   "codemirror_mode": {
    "name": "ipython",
    "version": 3
   },
   "file_extension": ".py",
   "mimetype": "text/x-python",
   "name": "python",
   "nbconvert_exporter": "python",
   "pygments_lexer": "ipython3",
   "version": "3.12.4"
  }
 },
 "nbformat": 4,
 "nbformat_minor": 5
}
