{
 "cells": [
  {
   "cell_type": "markdown",
   "id": "3a421ac6-99e4-4135-9bf9-ff60364a1554",
   "metadata": {},
   "source": [
    "# Exercício 18 (MINI BOSS): Análise de Desempenho Escolar\n",
    " \n",
    "Você é um cientista de dados contratado por uma escola para analisar o desempenho de três turmas (Turma A, Turma B, Turma C) em duas disciplinas: Matemática e Ciências.\n",
    "O objetivo é gerar um relatório completo utilizando as medidas estatísticas estudadas para entender o desempenho geral dos alunos e descobrir padrões importantes.\n",
    "Tarefas:\n",
    "\n",
    "    1. Carregar o dataset que contém as notas dos alunos das três turmas. O arquivo chama 18_analise_avancada.csv.\n",
    "    2. Calcular as seguintes medidas estatísticas para cada turma (A, B e C) em Matemática e Ciências:\n",
    "        a. Média\n",
    "        b. Mediana\n",
    "        c. Moda\n",
    "        d. Amplitude (diferença entre a maior e a menor nota)\n",
    "        e. Variância\n",
    "        f. Desvio Padrão\n",
    "        g. Covariância e Correlação entre Matemática e Ciências\n",
    "\n",
    "# Conclusões:\n",
    "\n",
    "    1. Com base nas medidas acima, qual turma teve o melhor desempenho geral em Matemática e Ciências?\n",
    "    2. Qual turma tem as notas mais consistentes em termos de desvio padrão?\n",
    "    3. Existe uma correlação entre o desempenho em Matemática e Ciências para cada\n",
    "    turma? Essa correlação é positiva ou negativa?\n",
    "    4. Qual turma apresenta a maior amplitude de notas? O que isso nos diz sobre a desigualdade de desempenho dentro da turma? Formato das respostas: Coloque as perguntas acima no seu notebook (ou como comentário, em casos de não utilizar o Jupyter notebook), e a resposta logo abaixo.\n",
    "        \n",
    "# Exemplo:\n",
    "\n",
    "    1. Pergunta legal que você vai ter que analisar.\n",
    "    Resposta: Essa resposta também é legal.\n"
   ]
  },
  {
   "cell_type": "code",
   "execution_count": 1,
   "id": "d70f73b5-61c5-406a-ab41-98e0c9f3b920",
   "metadata": {},
   "outputs": [
    {
     "data": {
      "text/html": [
       "<div>\n",
       "<style scoped>\n",
       "    .dataframe tbody tr th:only-of-type {\n",
       "        vertical-align: middle;\n",
       "    }\n",
       "\n",
       "    .dataframe tbody tr th {\n",
       "        vertical-align: top;\n",
       "    }\n",
       "\n",
       "    .dataframe thead th {\n",
       "        text-align: right;\n",
       "    }\n",
       "</style>\n",
       "<table border=\"1\" class=\"dataframe\">\n",
       "  <thead>\n",
       "    <tr style=\"text-align: right;\">\n",
       "      <th></th>\n",
       "      <th>Turma</th>\n",
       "      <th>Matemática</th>\n",
       "      <th>Ciências</th>\n",
       "    </tr>\n",
       "  </thead>\n",
       "  <tbody>\n",
       "    <tr>\n",
       "      <th>0</th>\n",
       "      <td>C</td>\n",
       "      <td>83</td>\n",
       "      <td>96</td>\n",
       "    </tr>\n",
       "    <tr>\n",
       "      <th>1</th>\n",
       "      <td>A</td>\n",
       "      <td>47</td>\n",
       "      <td>91</td>\n",
       "    </tr>\n",
       "    <tr>\n",
       "      <th>2</th>\n",
       "      <td>C</td>\n",
       "      <td>63</td>\n",
       "      <td>52</td>\n",
       "    </tr>\n",
       "    <tr>\n",
       "      <th>3</th>\n",
       "      <td>C</td>\n",
       "      <td>50</td>\n",
       "      <td>80</td>\n",
       "    </tr>\n",
       "    <tr>\n",
       "      <th>4</th>\n",
       "      <td>A</td>\n",
       "      <td>90</td>\n",
       "      <td>42</td>\n",
       "    </tr>\n",
       "  </tbody>\n",
       "</table>\n",
       "</div>"
      ],
      "text/plain": [
       "  Turma  Matemática  Ciências\n",
       "0     C          83        96\n",
       "1     A          47        91\n",
       "2     C          63        52\n",
       "3     C          50        80\n",
       "4     A          90        42"
      ]
     },
     "execution_count": 1,
     "metadata": {},
     "output_type": "execute_result"
    }
   ],
   "source": [
    "# Carregando o dataset.\n",
    "\n",
    "import pandas as pd\n",
    "\n",
    "df_turmas = pd.read_csv(\"18_analise_avancada.csv\")\n",
    "df_turmas.head()"
   ]
  },
  {
   "cell_type": "code",
   "execution_count": 2,
   "id": "ffc52836-39ad-4d56-89bc-519016bb4126",
   "metadata": {},
   "outputs": [
    {
     "name": "stdout",
     "output_type": "stream",
     "text": [
      "Matemática    69.515152\n",
      "Ciências      70.393939\n",
      "dtype: float64\n",
      "Matemática    70.888889\n",
      "Ciências      71.555556\n",
      "dtype: float64\n",
      "Matemática    68.741935\n",
      "Ciências      67.580645\n",
      "dtype: float64\n"
     ]
    }
   ],
   "source": [
    "# Calculando a MEDIA de cada turma para matematica e ciencias.\n",
    "\n",
    "df_turma_a = df_turmas[df_turmas['Turma'] == 'A']\n",
    "df_turma_b = df_turmas[df_turmas['Turma'] == 'B']\n",
    "df_turma_c = df_turmas[df_turmas['Turma'] == 'C']\n",
    "\n",
    "media_a = df_turma_a[['Matemática','Ciências']].mean()\n",
    "print(media_a)\n",
    "\n",
    "media_b = df_turma_b[['Matemática', 'Ciências']].mean()\n",
    "print(media_b)\n",
    "\n",
    "media_c = df_turma_c[['Matemática', 'Ciências']].mean()\n",
    "print(media_c)"
   ]
  },
  {
   "cell_type": "code",
   "execution_count": 3,
   "id": "b1ffe727-e6c2-40a1-a29a-4040edbe5d92",
   "metadata": {},
   "outputs": [
    {
     "name": "stdout",
     "output_type": "stream",
     "text": [
      "Matemática    68.0\n",
      "Ciências      72.0\n",
      "dtype: float64\n",
      "Matemática    71.0\n",
      "Ciências      72.0\n",
      "dtype: float64\n",
      "Matemática    74.0\n",
      "Ciências      67.0\n",
      "dtype: float64\n"
     ]
    }
   ],
   "source": [
    "# Calculando a MEDIANA de cada turma para matematica e ciencias.\n",
    "\n",
    "df_turma_a = df_turmas[df_turmas['Turma'] == 'A']\n",
    "df_turma_b = df_turmas[df_turmas['Turma'] == 'B']\n",
    "df_turma_c = df_turmas[df_turmas['Turma'] == 'C']\n",
    "\n",
    "mediana_a = df_turma_a[['Matemática','Ciências']].median()\n",
    "print(mediana_a)\n",
    "\n",
    "mediana_b = df_turma_b[['Matemática', 'Ciências']].median()\n",
    "print(mediana_b)\n",
    "\n",
    "mediana_c = df_turma_c[['Matemática', 'Ciências']].median()\n",
    "print(mediana_c)"
   ]
  },
  {
   "cell_type": "code",
   "execution_count": 4,
   "id": "9cb98eed-2cd2-4873-87ca-1716c9e5fdc0",
   "metadata": {},
   "outputs": [
    {
     "name": "stdout",
     "output_type": "stream",
     "text": [
      "   Matemática  Ciências\n",
      "0        94.0        71\n",
      "1         NaN        88\n",
      "   Matemática  Ciências\n",
      "0          54      58.0\n",
      "1          74       NaN\n",
      "   Matemática  Ciências\n",
      "0        78.0        42\n",
      "1        83.0        45\n",
      "2         NaN        50\n",
      "3         NaN        71\n",
      "4         NaN        80\n",
      "5         NaN        94\n"
     ]
    }
   ],
   "source": [
    "# Calculando a MODA de cada turma para matematica e ciencias.\n",
    "\n",
    "df_turma_a = df_turmas[df_turmas['Turma'] == 'A']\n",
    "df_turma_b = df_turmas[df_turmas['Turma'] == 'B']\n",
    "df_turma_c = df_turmas[df_turmas['Turma'] == 'C']\n",
    "\n",
    "moda_a = df_turma_a[['Matemática','Ciências']].mode()\n",
    "print(moda_a)\n",
    "\n",
    "moda_b = df_turma_b[['Matemática', 'Ciências']].mode()\n",
    "print(moda_b)\n",
    "\n",
    "moda_c = df_turma_c[['Matemática', 'Ciências']].mode()\n",
    "print(moda_c)"
   ]
  },
  {
   "cell_type": "code",
   "execution_count": 7,
   "id": "685d9d03-9ee5-4708-8bfc-b2802e846269",
   "metadata": {},
   "outputs": [
    {
     "name": "stdout",
     "output_type": "stream",
     "text": [
      "Matemática    57\n",
      "Ciências      58\n",
      "dtype: int64\n",
      "Matemática    53\n",
      "Ciências      58\n",
      "dtype: int64\n",
      "Matemática    60\n",
      "Ciências      57\n",
      "dtype: int64\n"
     ]
    }
   ],
   "source": [
    "# Calculando a AMPLITUDE de cada turma para matematica e ciencias.\n",
    "\n",
    "df_turma_a = df_turmas[df_turmas['Turma'] == 'A']\n",
    "df_turma_b = df_turmas[df_turmas['Turma'] == 'B']\n",
    "df_turma_c = df_turmas[df_turmas['Turma'] == 'C']\n",
    "\n",
    "amplitude_a = df_turma_a[['Matemática','Ciências']].max() - df_turma_a[['Matemática','Ciências']].min()\n",
    "print(amplitude_a)\n",
    "\n",
    "amplitude_b = df_turma_b[['Matemática', 'Ciências']].max() - df_turma_b[['Matemática','Ciências']].min()\n",
    "print(amplitude_b)\n",
    "\n",
    "amplitude_c = df_turma_c[['Matemática', 'Ciências']].max() - df_turma_c[['Matemática','Ciências']].min()\n",
    "print(amplitude_c)"
   ]
  },
  {
   "cell_type": "code",
   "execution_count": null,
   "id": "10796fef-cee2-46bf-a641-1f55cad09add",
   "metadata": {},
   "outputs": [],
   "source": [
    "# Calculando a VARIANCIA de cada turma para matematica e ciencias.\n",
    "\n",
    "df_turma_a = df_turmas[df_turmas['Turma'] == 'A']\n",
    "df_turma_b = df_turmas[df_turmas['Turma'] == 'B']\n",
    "df_turma_c = df_turmas[df_turmas['Turma'] == 'C']\n",
    "\n",
    "variancia_a = df_turma_a[['Matemática','Ciências']].var()\n",
    "print(variancia_a)\n",
    "\n",
    "variancia_b = df_turma_b[['Matemática', 'Ciências']].var()\n",
    "print(variancia_b)\n",
    "\n",
    "variancia_c = df_turma_c[['Matemática', 'Ciências']].var()\n",
    "print(variancia_c)"
   ]
  },
  {
   "cell_type": "code",
   "execution_count": 5,
   "id": "cc755e5a-76c2-4abc-b773-3eeaaa8df962",
   "metadata": {},
   "outputs": [
    {
     "name": "stdout",
     "output_type": "stream",
     "text": [
      "Matemática    18.043561\n",
      "Ciências      18.600973\n",
      "dtype: float64\n",
      "Matemática    15.300379\n",
      "Ciências      19.347122\n",
      "dtype: float64\n",
      "Matemática    17.549868\n",
      "Ciências      18.636477\n",
      "dtype: float64\n"
     ]
    }
   ],
   "source": [
    "# Calculando a DESVIO PADRÃO de cada turma para matematica e ciencias.\n",
    "\n",
    "df_turma_a = df_turmas[df_turmas['Turma'] == 'A']\n",
    "df_turma_b = df_turmas[df_turmas['Turma'] == 'B']\n",
    "df_turma_c = df_turmas[df_turmas['Turma'] == 'C']\n",
    "\n",
    "desvio_a = df_turma_a[['Matemática','Ciências']].std()\n",
    "print(desvio_a)\n",
    "\n",
    "desvio_b = df_turma_b[['Matemática', 'Ciências']].std()\n",
    "print(desvio_b)\n",
    "\n",
    "desvio_c = df_turma_c[['Matemática', 'Ciências']].std()\n",
    "print(desvio_c)"
   ]
  },
  {
   "cell_type": "code",
   "execution_count": null,
   "id": "ac4124c4-1273-42d3-90c6-dd6ebd4e9435",
   "metadata": {},
   "outputs": [],
   "source": [
    "# Calculando a COVARIANCIA de cada turma para matematica e ciencias.\n",
    "\n",
    "df_turma_a = df_turmas[df_turmas['Turma'] == 'A']\n",
    "df_turma_b = df_turmas[df_turmas['Turma'] == 'B']\n",
    "df_turma_c = df_turmas[df_turmas['Turma'] == 'C']\n",
    "\n",
    "cov_a = df_turma_a[['Matemática','Ciências']].cov().iloc[0,1]\n",
    "print(cov_a)\n",
    "\n",
    "cov_b = df_turma_b[['Matemática', 'Ciências']].cov().iloc[0,1]\n",
    "print(cov_b)\n",
    "\n",
    "cov_c = df_turma_c[['Matemática', 'Ciências']].cov().iloc[0,1]\n",
    "print(cov_c)"
   ]
  },
  {
   "cell_type": "code",
   "execution_count": 8,
   "id": "b8bc6297-e716-4867-a3c0-4cd6641dda1f",
   "metadata": {},
   "outputs": [
    {
     "name": "stdout",
     "output_type": "stream",
     "text": [
      "-0.20453246864178673\n",
      "-0.08501190842370167\n",
      "0.23559292984320052\n"
     ]
    }
   ],
   "source": [
    "# Calculando a CORRELACAO de cada turma para matematica e ciencias.\n",
    "\n",
    "df_turma_a = df_turmas[df_turmas['Turma'] == 'A']\n",
    "df_turma_b = df_turmas[df_turmas['Turma'] == 'B']\n",
    "df_turma_c = df_turmas[df_turmas['Turma'] == 'C']\n",
    "\n",
    "corr_a = df_turma_a[['Matemática','Ciências']].corr().iloc[0,1]\n",
    "print(corr_a)\n",
    "\n",
    "corr_b = df_turma_b[['Matemática', 'Ciências']].corr().iloc[0,1]\n",
    "print(corr_b)\n",
    "\n",
    "corr_c = df_turma_c[['Matemática', 'Ciências']].corr().iloc[0,1]\n",
    "print(corr_c)"
   ]
  },
  {
   "cell_type": "markdown",
   "id": "ab94b9fa-a182-47cd-b3c4-b984279dd46a",
   "metadata": {},
   "source": [
    "Conclusoes\n",
    "\n",
    "1. Com base nas medidas acima, qual turma teve o melhor desempenho geral em Matemática e Ciências?\n",
    "\n",
    "R: A turma B teve melhor desempenho comparado com as outras turmas.\n",
    "\n",
    "2. Qual turma tem as notas mais consistentes em termos de desvio padrão?\n",
    "\n",
    "R: A turma A tem as notas mais consistentes em termos de desvio padrao.\n",
    "\n",
    "3. Existe uma correlação entre o desempenho em Matemática e Ciências para cada\n",
    "turma? Essa correlação é positiva ou negativa?\n",
    "\n",
    "R: A correlacao do desempenho de matematica e ciencias entre a turma A e turma B é negativa. A turma se destaca positivamente perante as demais.\n",
    "\n",
    "5. Qual turma apresenta a maior amplitude de notas? \n",
    "O que isso nos diz sobre a desigualdade de desempenho dentro da turma? Formato das respostas: \n",
    "Coloque as perguntas acima no seu notebook (ou como comentário, em casos de não utilizar o Jupyter notebook), e a resposta logo abaixo.\n",
    "\n",
    "R: A turma C apresante maior amplitude de notas. Isso significa que a turma C possui maior desigualdade de desempenho, tendo as menores notas muito abaixo das maiores notas."
   ]
  }
 ],
 "metadata": {
  "kernelspec": {
   "display_name": "Python 3 (ipykernel)",
   "language": "python",
   "name": "python3"
  },
  "language_info": {
   "codemirror_mode": {
    "name": "ipython",
    "version": 3
   },
   "file_extension": ".py",
   "mimetype": "text/x-python",
   "name": "python",
   "nbconvert_exporter": "python",
   "pygments_lexer": "ipython3",
   "version": "3.12.4"
  }
 },
 "nbformat": 4,
 "nbformat_minor": 5
}
