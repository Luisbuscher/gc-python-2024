{
 "cells": [
  {
   "cell_type": "code",
   "execution_count": null,
   "id": "d185994d-47ea-45af-b3eb-2cff2fc22102",
   "metadata": {},
   "outputs": [],
   "source": [
    "# Desafio em grupo do boss 2"
   ]
  }
 ],
 "metadata": {
  "kernelspec": {
   "display_name": "Python 3 (ipykernel)",
   "language": "python",
   "name": "python3"
  },
  "language_info": {
   "codemirror_mode": {
    "name": "ipython",
    "version": 3
   },
   "file_extension": ".py",
   "mimetype": "text/x-python",
   "name": "python",
   "nbconvert_exporter": "python",
   "pygments_lexer": "ipython3",
   "version": "3.12.4"
  }
 },
 "nbformat": 4,
 "nbformat_minor": 5
}
