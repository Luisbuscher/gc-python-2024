{
 "cells": [
  {
   "cell_type": "code",
   "execution_count": 3,
   "id": "2b2786b6-a4c8-4c15-8b63-fb1ae766d762",
   "metadata": {},
   "outputs": [
    {
     "name": "stdout",
     "output_type": "stream",
     "text": [
      "                  Nomes   Ano\n",
      "0              Deadpool  2016\n",
      "1      Quebrando Regras  2008\n",
      "2             Elementos  2023\n",
      "3  Velozes e Furiosos 2  2003\n",
      "4         Heroi o filme  2008\n"
     ]
    }
   ],
   "source": [
    "import pandas as pd\n",
    "\n",
    "# Crie uma 2a lista com o ano de lançamento desses 5 filmes.\n",
    "# Crie uma lista com 5 nomes de filmes que voce gosta.\n",
    "\n",
    "dados_filmes = {\n",
    "    'Nomes': ['Deadpool','Quebrando Regras','Elementos','Velozes e Furiosos 2','Heroi o filme'],\n",
    "    'Ano': [2016, 2008, 2023, 2003, 2008]\n",
    "    }\n",
    "\n",
    "filmes = pd.DataFrame(dados_filmes)\n",
    "print(filmes)"
   ]
  },
  {
   "cell_type": "code",
   "execution_count": 12,
   "id": "d6a74111-fd55-41ae-b1ac-fe8bcaa40840",
   "metadata": {},
   "outputs": [
    {
     "name": "stdout",
     "output_type": "stream",
     "text": [
      "                  Nomes   Ano  Notas\n",
      "0              Deadpool  2016      7\n",
      "1      Quebrando Regras  2008      9\n",
      "2             Elementos  2023      9\n",
      "3  Velozes e Furiosos 2  2003      8\n",
      "4         Heroi o filme  2008     10\n"
     ]
    }
   ],
   "source": [
    "# Adicione uma nova coluna com a nota, de 1 a 10, de quanto você gosta deles.\n",
    "\n",
    "filmes['Notas'] = [7, 9, 9, 8, 10]\n",
    "print(filmes)"
   ]
  },
  {
   "cell_type": "code",
   "execution_count": 16,
   "id": "d33e8cd9-020d-4050-b370-d621dde3066e",
   "metadata": {},
   "outputs": [],
   "source": [
    "# Crie mais 2 dataframes, de séries e anime/desenhos que você gosta, com as mesmas colunas acima.\n",
    "\n",
    "dados_animes = {\n",
    "    'Nomes': ['One Piece','Fairy Tail','Kimetsu No Yaiba','Kono Suba','Boku no Hero'],\n",
    "    'Ano': [1997, 2009, 2016, 2019, 2014],\n",
    "    'Nota': [9, 8, 8, 10, 7]\n",
    "    }\n",
    "\n",
    "dados_desenho = {\n",
    "    'Nomes': ['Pica-Pau (nao o biruta)','Kick Bottowski','Phineas e Pherb','Princesinha Sofia','Tom e Jerry'],\n",
    "    'Ano': [1940, 2010, 2007, 2012, 1940],\n",
    "    'Nota': [9, 9, 9, 10, 8]\n",
    "    }\n",
    "\n",
    "animes = pd.DataFrame(dados_animes)\n",
    "desenhos = pd.DataFrame(dados_desenho)"
   ]
  },
  {
   "cell_type": "code",
   "execution_count": 17,
   "id": "62a0be71-bc74-4482-a99c-8374d3c8fafa",
   "metadata": {},
   "outputs": [],
   "source": [
    "# Salve os 3 dataframes em 'csv', 'json' e 'html' e nos envie os arquivos.\n",
    "\n",
    "filmes.to_csv(\"filmes.csv\")\n",
    "animes.to_csv(\"animes.csv\")\n",
    "desenhos.to_csv(\"desenhos.csv\")\n",
    "\n",
    "filmes.to_json(\"filmes.json\")\n",
    "animes.to_json(\"animes.json\")\n",
    "desenhos.to_json(\"desenhos.json\")\n",
    "\n",
    "filmes.to_html(\"filmes.html\")\n",
    "animes.to_html(\"animes.html\")\n",
    "desenhos.to_html(\"desenhos.html\")"
   ]
  },
  {
   "cell_type": "code",
   "execution_count": 19,
   "id": "e1e2d813-e997-4d53-9081-adbec5ddb135",
   "metadata": {},
   "outputs": [
    {
     "name": "stdout",
     "output_type": "stream",
     "text": [
      "   Unnamed: 0             Nomes   Ano  Nota\n",
      "0           0         One Piece  1997     9\n",
      "1           1        Fairy Tail  2009     8\n",
      "2           2  Kimetsu No Yaiba  2016     8\n",
      "3           3         Kono Suba  2019    10\n",
      "4           4      Boku no Hero  2014     7\n"
     ]
    }
   ],
   "source": [
    "animes = pd.read_csv(\"animes.csv\")\n",
    "print(pessoas)"
   ]
  },
  {
   "cell_type": "code",
   "execution_count": null,
   "id": "704b6b54-f30e-46c3-a9b5-ea9b46ed809e",
   "metadata": {},
   "outputs": [],
   "source": []
  }
 ],
 "metadata": {
  "kernelspec": {
   "display_name": "Python 3 (ipykernel)",
   "language": "python",
   "name": "python3"
  },
  "language_info": {
   "codemirror_mode": {
    "name": "ipython",
    "version": 3
   },
   "file_extension": ".py",
   "mimetype": "text/x-python",
   "name": "python",
   "nbconvert_exporter": "python",
   "pygments_lexer": "ipython3",
   "version": "3.12.4"
  }
 },
 "nbformat": 4,
 "nbformat_minor": 5
}
