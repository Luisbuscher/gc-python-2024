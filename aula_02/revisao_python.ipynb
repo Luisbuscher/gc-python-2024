{
 "cells": [
  {
   "cell_type": "code",
   "execution_count": null,
   "id": "267869cf-4aa1-4b98-aa12-c296c746ba29",
   "metadata": {},
   "outputs": [],
   "source": [
    "nome = \"Luis\"\n",
    "eh_professor = True\n",
    "nome = 10\n",
    "dinheiro_na_carteira = 20.00"
   ]
  },
  {
   "cell_type": "code",
   "execution_count": 3,
   "id": "fef67e77-e20d-4ce0-b5e1-5c786f0a0354",
   "metadata": {},
   "outputs": [
    {
     "name": "stdout",
     "output_type": "stream",
     "text": [
      "Maior que 3\n"
     ]
    }
   ],
   "source": [
    "if 10 > 3:\n",
    "    print(\"Maior que 3\")\n",
    "else:\n",
    "    print(\"neh nao\")"
   ]
  },
  {
   "cell_type": "code",
   "execution_count": null,
   "id": "12e9ca98-93bd-4ce1-8a28-f24faf8f20c9",
   "metadata": {},
   "outputs": [],
   "source": [
    "lista_de_compras = ['maca','uva','leite']\n",
    "print(lista)"
   ]
  },
  {
   "cell_type": "code",
   "execution_count": null,
   "id": "6f3f0389-f1c0-4fee-be6a-aff524940127",
   "metadata": {},
   "outputs": [],
   "source": [
    "lista_tupla = [(12,24),(32,48)]\n",
    "lista_dicionario = [\n",
    "{\n",
    "    nome = 'Luis',\n",
    "    idade = 22\n",
    "},\n",
    "{\n",
    "    nome = 'Fabiano',\n",
    "    idade = "
   ]
  }
 ],
 "metadata": {
  "kernelspec": {
   "display_name": "Python 3 (ipykernel)",
   "language": "python",
   "name": "python3"
  },
  "language_info": {
   "codemirror_mode": {
    "name": "ipython",
    "version": 3
   },
   "file_extension": ".py",
   "mimetype": "text/x-python",
   "name": "python",
   "nbconvert_exporter": "python",
   "pygments_lexer": "ipython3",
   "version": "3.12.4"
  }
 },
 "nbformat": 4,
 "nbformat_minor": 5
}
