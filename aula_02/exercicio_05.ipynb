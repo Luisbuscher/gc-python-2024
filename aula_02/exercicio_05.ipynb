{
 "cells": [
  {
   "cell_type": "code",
   "execution_count": null,
   "metadata": {},
   "outputs": [],
   "source": [
    "# Crie um programa em Python que utilize um laço de repetição para contar de 1 a 5. O programa deve exibir cada número da contagem, um por vez, na tela.​​\n",
    "\n",
    "# Inicie a contagem em 1 e continue até alcançar o número 5.​​\n",
    "# Para cada número, o programa deve exibir a mensagem \"Contagem: X\", onde X é o número atual da contagem.\n",
    "\n",
    "for i in range(1, 6):\n",
    "    print(f\"Contagem: {i}\")"
   ]
  }
 ],
 "metadata": {
  "kernelspec": {
   "display_name": "Python 3",
   "language": "python",
   "name": "python3"
  },
  "language_info": {
   "codemirror_mode": {
    "name": "ipython",
    "version": 3
   },
   "file_extension": ".py",
   "mimetype": "text/x-python",
   "name": "python",
   "nbconvert_exporter": "python",
   "pygments_lexer": "ipython3",
   "version": "3.12.5"
  }
 },
 "nbformat": 4,
 "nbformat_minor": 2
}
