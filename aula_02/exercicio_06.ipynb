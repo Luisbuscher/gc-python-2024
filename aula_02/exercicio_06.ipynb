{
 "cells": [
  {
   "cell_type": "code",
   "execution_count": null,
   "metadata": {},
   "outputs": [],
   "source": [
    "# Crie um programa em Python que peça ao usuário para inserir o nome de três amigos. O programa deve armazenar esses nomes em uma lista e, em seguida, exibir uma mensagem personalizada para cada amigo, indicando que ele é seu amigo. ​​\n",
    "\n",
    "# O programa deve solicitar o nome de três amigos, um por vez. ​​\n",
    "# Após coletar os nomes, o programa deve exibir uma mensagem para cada nome na lista, como \"Nome_do_Amigo é meu amigo\".\n",
    "\n",
    "amigos = []\n",
    "\n",
    "for i in range(3):\n",
    "    nome = input(f\"Digite o nome do amigo {i + 1}: \")\n",
    "    amigos.append(nome)\n",
    "\n",
    "for amigo in amigos:\n",
    "    print(f\"{amigo} é meu amigo.\")"
   ]
  }
 ],
 "metadata": {
  "kernelspec": {
   "display_name": "Python 3",
   "language": "python",
   "name": "python3"
  },
  "language_info": {
   "codemirror_mode": {
    "name": "ipython",
    "version": 3
   },
   "file_extension": ".py",
   "mimetype": "text/x-python",
   "name": "python",
   "nbconvert_exporter": "python",
   "pygments_lexer": "ipython3",
   "version": "3.12.5"
  }
 },
 "nbformat": 4,
 "nbformat_minor": 2
}
