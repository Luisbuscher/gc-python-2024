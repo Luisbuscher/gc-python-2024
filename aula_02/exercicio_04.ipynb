{
 "cells": [
  {
   "cell_type": "code",
   "execution_count": null,
   "metadata": {},
   "outputs": [],
   "source": [
    "# Crie um programa em Python que solicite ao usuário que insira a sua idade. Com base na idade fornecida, o programa deve verificar se o usuário é menor de idade, maior de idade ou se está completando 18 anos.​​\n",
    "​​\n",
    "# Se a idade for menor que 18 anos, o programa deve exibir \"Menor de idade!\".​​\n",
    "# Se a idade for exatamente 18 anos, o programa deve exibir \"Feliz aniversário!\".​​\n",
    "# Se a idade for maior que 18 anos, o programa deve exibir \"Maior de idade!\".\n",
    "\n",
    "idade = int(input(\"Insira a sua idade: \"))\n",
    "\n",
    "if idade < 18:\n",
    "    print(\"Menor de idade!\")\n",
    "elif idade == 18:\n",
    "    print(\"Feliz aniversário!\")\n",
    "else:\n",
    "    print(\"Maior de idade!\")"
   ]
  }
 ],
 "metadata": {
  "language_info": {
   "name": "python"
  }
 },
 "nbformat": 4,
 "nbformat_minor": 2
}
