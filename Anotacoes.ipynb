{
 "cells": [
  {
   "cell_type": "code",
   "execution_count": null,
   "id": "78f4a7d6-dbc1-4b7b-a48b-f57451c5dfe6",
   "metadata": {},
   "outputs": [],
   "source": [
    "# Transformar dicionário em dataframes:\n",
    "\n",
    "dados_filmes = {\n",
    "    'Nomes': ['Deadpool','Quebrando Regras','Elementos','Velozes e Furiosos 2','Heroi o filme'],\n",
    "    'Ano': [2016, 2008, 2023, 2003, 2008]\n",
    "    }\n",
    "\n",
    "filmes = pd.DataFrame(dados_filmes)"
   ]
  },
  {
   "cell_type": "code",
   "execution_count": null,
   "id": "770c7f2e-1f13-47a8-96ba-259c90a5ff72",
   "metadata": {},
   "outputs": [],
   "source": [
    "# Adicionar nova coluna ao dataframe:\n",
    "\n",
    "filmes['Notas'] = [7, 9, 9, 8, 10]"
   ]
  },
  {
   "cell_type": "code",
   "execution_count": null,
   "id": "c7a201fa-7998-482b-8534-9493b93d1c9f",
   "metadata": {},
   "outputs": [],
   "source": [
    "# Salvar os dataframes em csv, json ou html:\n",
    "\n",
    "filmes.to_csv(\"filmes.csv\")\n",
    "filmes.to_json(\"filmes.json\")\n",
    "filmes.to_html(\"filmes.html\")"
   ]
  },
  {
   "cell_type": "code",
   "execution_count": 1,
   "id": "58e571ad-0259-444e-a8f1-29043f507891",
   "metadata": {},
   "outputs": [],
   "source": [
    "# Ler arquivos csv:\n",
    "\n",
    "animes = pd.read_csv(\"animes.csv\")"
   ]
  },
  {
   "cell_type": "code",
   "execution_count": null,
   "id": "73dc3dc8-b182-4890-a51b-07e51e1a24d2",
   "metadata": {},
   "outputs": [],
   "source": [
    "# Concatenar dataframes:\n",
    "result = pd.concat([filmes, animes, desenhos])\n",
    "result"
   ]
  }
 ],
 "metadata": {
  "kernelspec": {
   "display_name": "Python 3 (ipykernel)",
   "language": "python",
   "name": "python3"
  },
  "language_info": {
   "codemirror_mode": {
    "name": "ipython",
    "version": 3
   },
   "file_extension": ".py",
   "mimetype": "text/x-python",
   "name": "python",
   "nbconvert_exporter": "python",
   "pygments_lexer": "ipython3",
   "version": "3.12.4"
  }
 },
 "nbformat": 4,
 "nbformat_minor": 5
}
