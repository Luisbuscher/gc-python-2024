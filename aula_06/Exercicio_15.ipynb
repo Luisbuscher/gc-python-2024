{
 "cells": [
  {
   "cell_type": "code",
   "execution_count": null,
   "id": "cb7c34b8-e5f4-4cdb-be32-f18ccfdda06a",
   "metadata": {},
   "outputs": [],
   "source": [
    "# Objetivo: Preencher os valores ausentes de forma apropriada.\n",
    "\n",
    "# Instruções:\n",
    "\n",
    "# 1. Carregue o arquivo emprestimos.csv.\n",
    "# 2. Preencha os valores ausentes da coluna data_devolucao com a string \"Em aberto\" para indicar que o livro ainda não foi devolvido.\n",
    "# 3. Exiba o DataFrame resultante com as alterações."
   ]
  }
 ],
 "metadata": {
  "kernelspec": {
   "display_name": "Python 3 (ipykernel)",
   "language": "python",
   "name": "python3"
  },
  "language_info": {
   "codemirror_mode": {
    "name": "ipython",
    "version": 3
   },
   "file_extension": ".py",
   "mimetype": "text/x-python",
   "name": "python",
   "nbconvert_exporter": "python",
   "pygments_lexer": "ipython3",
   "version": "3.12.4"
  }
 },
 "nbformat": 4,
 "nbformat_minor": 5
}
