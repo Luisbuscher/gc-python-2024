{
 "cells": [
  {
   "cell_type": "code",
   "execution_count": null,
   "id": "b80f7368-6770-41af-94b9-297aeaa523f6",
   "metadata": {},
   "outputs": [],
   "source": [
    "# Objetivo: Identificar os valores ausentes no DataFrame de empréstimos.\n",
    "\n",
    "# Instruções:\n",
    "# 1. Carregue o arquivo emprestimos.csv em um DataFrame.\n",
    "# 2. Utilize métodos do pandas para identificar quantos valores ausentes (NaN) existem na coluna data_devolucao.\n",
    "# 3. Exiba a quantidade total de valores ausentes."
   ]
  }
 ],
 "metadata": {
  "kernelspec": {
   "display_name": "Python 3 (ipykernel)",
   "language": "python",
   "name": "python3"
  },
  "language_info": {
   "codemirror_mode": {
    "name": "ipython",
    "version": 3
   },
   "file_extension": ".py",
   "mimetype": "text/x-python",
   "name": "python",
   "nbconvert_exporter": "python",
   "pygments_lexer": "ipython3",
   "version": "3.12.4"
  }
 },
 "nbformat": 4,
 "nbformat_minor": 5
}
